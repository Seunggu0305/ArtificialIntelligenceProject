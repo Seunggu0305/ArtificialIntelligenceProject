{
  "nbformat": 4,
  "nbformat_minor": 0,
  "metadata": {
    "colab": {
      "name": "Homework11_2018311840_강승구",
      "provenance": [],
      "collapsed_sections": []
    },
    "kernelspec": {
      "name": "python3",
      "display_name": "Python 3"
    },
    "accelerator": "GPU"
  },
  "cells": [
    {
      "cell_type": "code",
      "metadata": {
        "id": "-BiECsrLCQVZ",
        "colab_type": "code",
        "colab": {}
      },
      "source": [
        "from __future__ import unicode_literals, print_function, division\n",
        "from io import open\n",
        "import glob\n",
        "import os\n",
        "def findFiles(path): return glob.glob(path)\n",
        "\n",
        "import unicodedata\n",
        "import string\n",
        "\n",
        "all_letters = string.ascii_letters + \" .,;'\"\n",
        "n_letters = len(all_letters)\n",
        "\n",
        "def unicodeToAscii(s):\n",
        "    return ''.join(\n",
        "        c for c in unicodedata.normalize('NFD', s)\n",
        "        if unicodedata.category(c) != 'Mn'\n",
        "        and c in all_letters\n",
        "    )\n",
        "\n",
        "category_lines = {}\n",
        "all_categories = []\n",
        "\n",
        "def readLines(filename):\n",
        "    lines = open(filename, encoding='utf-8').read().strip().split('\\n')\n",
        "    return [unicodeToAscii(line) for line in lines]\n",
        "\n",
        "train = {}\n",
        "test = {}\n",
        "allline = []\n",
        "for filename in findFiles('/content/drive/My Drive/Colab Notebooks/data/names/*.txt'):\n",
        "    category = os.path.splitext(os.path.basename(filename))[0]\n",
        "    all_categories.append(category)\n",
        "    lines = readLines(filename)\n",
        "    category_lines[category] = lines\n",
        "    train[category] = category_lines[category][0 : int(0.9*len(category_lines[category]))]\n",
        "    test[category] = category_lines[category][int(0.9*len(category_lines[category])):]\n",
        "\n",
        "n_categories = len(all_categories)"
      ],
      "execution_count": 0,
      "outputs": []
    },
    {
      "cell_type": "code",
      "metadata": {
        "id": "hhVWuNwL57sY",
        "colab_type": "code",
        "colab": {}
      },
      "source": [
        "import torch\n",
        "\n",
        "letter_indices = {char: idx for idx, char in enumerate(all_letters)}\n",
        "\n",
        "max_len = max([max([len(word) for word in category_lines[ca]]) for ca in all_categories])\n",
        "\n",
        "def lineToTensor(line):\n",
        "    tensor = torch.zeros(max_len, n_letters)\n",
        "    for li, letter in enumerate(line):\n",
        "        tensor[li][letter_indices[letter]] = 1\n",
        "    return tensor"
      ],
      "execution_count": 0,
      "outputs": []
    },
    {
      "cell_type": "code",
      "metadata": {
        "id": "aiH3zfec7FgZ",
        "colab_type": "code",
        "colab": {}
      },
      "source": [
        "import torch.nn as nn\n",
        "import torch.nn.functional as F\n",
        "\n",
        "class RNN(nn.Module):\n",
        "    def __init__(self, input_sz, hidden_sz, output_size, max_seq_len):\n",
        "        super(RNN, self).__init__()\n",
        "        self.maxlen = max_seq_len\n",
        "        self.i2o = nn.Linear(hidden_sz * hidden_sz, output_size)\n",
        "        self.rnn = nn.RNN(input_sz, hidden_sz, batch_first=True)\n",
        "\n",
        "    def forward(self, input, line_lengths):\n",
        "        input = torch.nn.utils.rnn.pack_padded_sequence(input, line_lengths, batch_first=True)\n",
        "\n",
        "        output, hidden = self.rnn(input)\n",
        "        \n",
        "        output_padded, _ = torch.nn.utils.rnn.pad_packed_sequence(output, total_length=self.maxlen, batch_first=True)\n",
        "        output = output_padded.contiguous()\n",
        "        output = output.view(output.shape[0], -1)\n",
        "        \n",
        "        output = self.i2o(output)\n",
        "        output = F.log_softmax(output, dim=1)\n",
        "        \n",
        "        return output\n",
        "\n",
        "rnn = RNN(n_letters, max_len, n_categories, max_len)"
      ],
      "execution_count": 0,
      "outputs": []
    },
    {
      "cell_type": "code",
      "metadata": {
        "id": "7YSQF32z7GeW",
        "colab_type": "code",
        "colab": {}
      },
      "source": [
        "def categoryFromOutput(output):\n",
        "    top_n, top_i = output.topk(1)\n",
        "    category_i = top_i[0].item()\n",
        "    return all_categories[category_i], category_i"
      ],
      "execution_count": 0,
      "outputs": []
    },
    {
      "cell_type": "code",
      "metadata": {
        "id": "wmGtfj2S7H6I",
        "colab_type": "code",
        "colab": {}
      },
      "source": [
        "import random\n",
        "\n",
        "def categChoice(l):\n",
        "    return l[random.randint(0, len(l)-1)]\n",
        "  \n",
        "def trainChoice(l):\n",
        "    return l[random.randint(0, int(len(l)*0.9) - 1)]\n",
        "\n",
        "def testChoice(l):\n",
        "    return l[random.randint(int(len(l)*0.9), len(l) - 1)]\n",
        "\n",
        "def randomTrainingExample():\n",
        "    category = categChoice(all_categories)\n",
        "    line = trainChoice(category_lines[category])\n",
        "    category_tensor = torch.tensor([all_categories.index(category)], dtype=torch.long)\n",
        "    line_tensor = lineToTensor(line)\n",
        "    return category, line, category_tensor, line_tensor\n",
        "\n",
        "def randomTestExample():\n",
        "    category_list = []\n",
        "    line_list = []\n",
        "    category_tensor_batch = [] \n",
        "    line_tensor_batch = []\n",
        "    line_lens = []\n",
        "    list_to_sort = []\n",
        "    category = categChoice(all_categories)\n",
        "    line = testChoice(category_lines[category])\n",
        "    category_tensor = torch.tensor([all_categories.index(category)], dtype=torch.long)\n",
        "    line_tensor = lineToTensor(line)\n",
        "    for i in range(10):\n",
        "      category, line, category_tensor, line_tensor = randomTrainingExample()\n",
        "      line_len = (line_tensor>0).sum()\n",
        "      list_to_sort.append((category,line,category_tensor,line_tensor,line_len))        \n",
        "    sorted_list = sorted(list_to_sort, key=lambda line:line[4], reverse=True)\n",
        "    for line in sorted_list:\n",
        "      category, line, category_tensor, line_tensor, line_len = line\n",
        "      category_list.append(category)\n",
        "      line_list.append(line)\n",
        "      category_tensor_batch.append(category_tensor.item())\n",
        "      line_tensor_batch.append(line_tensor)\n",
        "      line_lens.append(line_len)\n",
        "    return category_list, line_list, torch.tensor(category_tensor_batch), torch.stack(line_tensor_batch), torch.stack(line_lens)\n",
        "    \n",
        "def batch(num):\n",
        "    category_list = []\n",
        "    line_list = []\n",
        "    category_tensor_batch = [] \n",
        "    line_tensor_batch = []\n",
        "    line_lens = []\n",
        "    list_to_sort = []\n",
        "    \n",
        "    for i in range(num):\n",
        "        category, line, category_tensor, line_tensor = randomTrainingExample()\n",
        "        line_len = (line_tensor>0).sum()\n",
        "        list_to_sort.append((category,line,category_tensor,line_tensor,line_len))\n",
        "        \n",
        "    sorted_list = sorted(list_to_sort, key=lambda line:line[4], reverse=True)\n",
        "    \n",
        "    for line in sorted_list:\n",
        "        category, line, category_tensor, line_tensor, line_len = line\n",
        "        category_list.append(category)\n",
        "        line_list.append(line)\n",
        "        category_tensor_batch.append(category_tensor.item())\n",
        "        line_tensor_batch.append(line_tensor)\n",
        "        line_lens.append(line_len)\n",
        "    return category_list, line_list, torch.tensor(category_tensor_batch), torch.stack(line_tensor_batch), torch.stack(line_lens) # only one can use torch.tensor so used .stack"
      ],
      "execution_count": 0,
      "outputs": []
    },
    {
      "cell_type": "code",
      "metadata": {
        "id": "f0eflfhR7OHA",
        "colab_type": "code",
        "colab": {}
      },
      "source": [
        "criterion = nn.NLLLoss()"
      ],
      "execution_count": 0,
      "outputs": []
    },
    {
      "cell_type": "code",
      "metadata": {
        "id": "NeQmzYIW7PkS",
        "colab_type": "code",
        "colab": {}
      },
      "source": [
        "def train(category_tensor_batch, line_tensor_batch, line_lengths, learning_rate):\n",
        "    rnn.zero_grad()\n",
        "    output = rnn(line_tensor_batch, line_lengths)\n",
        "    loss = criterion(output, category_tensor_batch)\n",
        "    loss.backward()\n",
        "\n",
        "    #Add parameters' gradients to their values, multiplied by learning rate\n",
        "    for p in rnn.parameters():\n",
        "        p.data.add_(p.grad.data, alpha = -learning_rate)\n",
        "\n",
        "    return output, loss.item()"
      ],
      "execution_count": 0,
      "outputs": []
    },
    {
      "cell_type": "code",
      "metadata": {
        "id": "yoAiWTyq7TCF",
        "colab_type": "code",
        "colab": {
          "base_uri": "https://localhost:8080/",
          "height": 193
        },
        "outputId": "7b7f00a2-fc38-4a7b-d923-c4024a23a03b"
      },
      "source": [
        "import time\n",
        "import math\n",
        "\n",
        "def timeSince(since):\n",
        "    now = time.time()\n",
        "    s = now - since\n",
        "    m = math.floor(s / 60)\n",
        "    s -= m * 60\n",
        "    return '%dm %ds' % (m, s)\n",
        "\n",
        "learning_rate = 0.005\n",
        "current_loss = 0\n",
        "all_losses = []\n",
        "\n",
        "start = time.time()\n",
        "for epoch in range(1, 50001):\n",
        "  category_list, line_list, category_tensor_batch, line_tensor_batch, line_lengths = batch(64)\n",
        "  output, batch_loss = train(category_tensor_batch, line_tensor_batch, line_lengths,learning_rate)\n",
        "  current_loss += batch_loss\n",
        "\n",
        "  if epoch % 5000 == 0:\n",
        "    guess, guess_i = categoryFromOutput(output[0])\n",
        "    category = category_list[0]\n",
        "    correct = '✓' if guess == category else '✗ (%s)' % category\n",
        "    print('%d %d%% (%s) %.4f %s / %s %s' % (epoch, epoch / 50000 * 100, timeSince(start), batch_loss, line_list[0], guess, correct))\n",
        "  if epoch % 1000 == 0:\n",
        "    all_losses.append(current_loss / 500)\n",
        "    current_loss = 0"
      ],
      "execution_count": 356,
      "outputs": [
        {
          "output_type": "stream",
          "text": [
            "5000 10% (1m 0s) 2.1285 Konstantatos / Greek ✓\n",
            "10000 20% (2m 1s) 1.8447 Balanchivadze / Italian ✗ (Russian)\n",
            "15000 30% (3m 2s) 1.8255 Sakellariou / Polish ✗ (Greek)\n",
            "20000 40% (4m 4s) 1.8039 Katsourinis / Greek ✓\n",
            "25000 50% (5m 7s) 1.6464 Rooijakkers / Greek ✗ (Dutch)\n",
            "30000 60% (6m 7s) 1.8213 Hadjiyianakies / Greek ✓\n",
            "35000 70% (7m 8s) 1.5956 Michalovicova / Russian ✗ (Czech)\n",
            "40000 80% (8m 8s) 1.2258 Schneijders / Dutch ✓\n",
            "45000 90% (9m 10s) 1.2757 Williamson / Scottish ✓\n",
            "50000 100% (10m 12s) 1.3004 Featherstone / French ✗ (English)\n"
          ],
          "name": "stdout"
        }
      ]
    },
    {
      "cell_type": "code",
      "metadata": {
        "id": "J4ywuXk5BzCf",
        "colab_type": "code",
        "colab": {
          "base_uri": "https://localhost:8080/",
          "height": 282
        },
        "outputId": "ca7f612b-5d39-4666-affd-99e4ef753365"
      },
      "source": [
        "import matplotlib.pyplot as plt\n",
        "import matplotlib.ticker as ticker\n",
        "\n",
        "plt.figure()\n",
        "plt.plot(all_losses)"
      ],
      "execution_count": 357,
      "outputs": [
        {
          "output_type": "execute_result",
          "data": {
            "text/plain": [
              "[<matplotlib.lines.Line2D at 0x7f020dd802b0>]"
            ]
          },
          "metadata": {
            "tags": []
          },
          "execution_count": 357
        },
        {
          "output_type": "display_data",
          "data": {
            "image/png": "[encoded data removed]",
            "text/plain": [
              "<Figure size 432x288 with 1 Axes>"
            ]
          },
          "metadata": {
            "tags": [],
            "needs_background": "light"
          }
        }
      ]
    },
    {
      "cell_type": "code",
      "metadata": {
        "id": "sDa92aZYKspL",
        "colab_type": "code",
        "colab": {
          "base_uri": "https://localhost:8080/",
          "height": 320
        },
        "outputId": "71c3620f-4be4-458b-d7e9-14421dc66e43"
      },
      "source": [
        "confusion = torch.zeros(n_categories, n_categories)\n",
        "n_confusion = 1000\n",
        "\n",
        "for i in range(n_confusion):\n",
        "    category_list, line_list, category_tensor_batch, line_tensor_batch, line_lengths = randomTestExample()\n",
        "    output = rnn(line_tensor_batch, line_lengths)\n",
        "    for j in range(0, 10):\n",
        "      guess, guess_i = categoryFromOutput(output[j])\n",
        "      category_i = all_categories.index(category_list[j])\n",
        "      confusion[category_i][guess_i] += 1\n",
        "\n",
        "# Normalize by dividing every row by its sum\n",
        "for i in range(n_categories):\n",
        "    confusion[i] = confusion[i] / confusion[i].sum()\n",
        "\n",
        "# Set up plot\n",
        "fig = plt.figure()\n",
        "ax = fig.add_subplot(111)\n",
        "cax = ax.matshow(confusion.numpy())\n",
        "fig.colorbar(cax)\n",
        "\n",
        "# Set up axes\n",
        "ax.set_xticklabels([''] + all_categories, rotation=90)\n",
        "ax.set_yticklabels([''] + all_categories)\n",
        "\n",
        "# Force label at every tick\n",
        "ax.xaxis.set_major_locator(ticker.MultipleLocator(1))\n",
        "ax.yaxis.set_major_locator(ticker.MultipleLocator(1))\n",
        "\n",
        "# sphinx_gallery_thumbnail_number = 2\n",
        "plt.show()"
      ],
      "execution_count": 421,
      "outputs": [
        {
          "output_type": "display_data",
          "data": {
            "image/png": "[encoded data removed]",
            "text/plain": [
              "<Figure size 432x288 with 2 Axes>"
            ]
          },
          "metadata": {
            "tags": [],
            "needs_background": "light"
          }
        }
      ]
    }
  ]
}